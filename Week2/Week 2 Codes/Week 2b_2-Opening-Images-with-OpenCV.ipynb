{
 "cells": [
  {
   "cell_type": "markdown",
   "metadata": {},
   "source": [
    "# Opening Image Files with OpenCV"
   ]
  },
  {
   "cell_type": "markdown",
   "metadata": {},
   "source": [
    "OpenCV can open images in separate outside windows when you run a .py script. Keep in mind, at the moment, this often doesn't work with the iPython kernel in a Jupyter notebook for some complex reasons. \n",
    "\n",
    "Let's explore how we can use Open CV to open files in a separate window. Typically you would run these sort of commands as a script! So we've also included a .py script"
   ]
  },
  {
   "cell_type": "code",
   "execution_count": 4,
   "metadata": {},
   "outputs": [],
   "source": [
    "# MUST BE RUN AS .py SCRIPT IN ORDER TO WORK.\n",
    "# WARNING: RUNNING THIS CELL WILL KILL THE KERNEL IF YOU USE JUPYTER DIRECTLY\n",
    "\n",
    "import cv2\n",
    "\n",
    "img = cv2.imread('dog_backpack.jpg',cv2.COLOR_BGR2RGB)\n",
    "while True:\n",
    "    # Show the image with OpenCV\n",
    "    cv2.imshow('window_name',img)\n",
    "    # Wait for something on keyboard to be pressed to close window.\n",
    "    #if we've waited at least one 1msec AND we've pressed the escape key (27)\n",
    "    if cv2.waitKey(1) & 0xFF==27:\n",
    "        break\n",
    "\n",
    "cv2.destroyAllWindows()\n",
    "#    cv2.waitKey()"
   ]
  },
  {
   "cell_type": "code",
   "execution_count": null,
   "metadata": {},
   "outputs": [],
   "source": [
    "\n"
   ]
  }
 ],
 "metadata": {
  "kernelspec": {
   "display_name": "Python 3 (ipykernel)",
   "language": "python",
   "name": "python3"
  },
  "language_info": {
   "codemirror_mode": {
    "name": "ipython",
    "version": 3
   },
   "file_extension": ".py",
   "mimetype": "text/x-python",
   "name": "python",
   "nbconvert_exporter": "python",
   "pygments_lexer": "ipython3",
   "version": "3.12.8"
  }
 },
 "nbformat": 4,
 "nbformat_minor": 4
}
