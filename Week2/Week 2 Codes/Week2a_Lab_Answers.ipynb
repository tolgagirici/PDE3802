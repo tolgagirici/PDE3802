{
 "cells": [
  {
   "cell_type": "markdown",
   "id": "c33525e6-95df-4d32-aad2-78cd1f643abc",
   "metadata": {},
   "source": [
    "- 1.\tMaximum and minimum value in a list:\n",
    " \n",
    "Create a list of positive numbers, and write code to find the maximum (and minimum) value in the list. You should compare your result with what the built in function \"max()\" provides\n"
   ]
  },
  {
   "cell_type": "code",
   "execution_count": 1,
   "id": "a932a064-4e92-4468-98f7-fc67e7c70f3d",
   "metadata": {},
   "outputs": [],
   "source": [
    "import numpy as np\n",
    "import matplotlib.pyplot as plt\n"
   ]
  },
  {
   "cell_type": "code",
   "execution_count": 11,
   "id": "88367202-ae12-4a5e-95b4-24aca652bb31",
   "metadata": {},
   "outputs": [
    {
     "name": "stdout",
     "output_type": "stream",
     "text": [
      "[[99 34  6 10 36  7 71 81 89  9]]\n",
      "maximum is 99, minimum is 6\n"
     ]
    }
   ],
   "source": [
    "numlist=np.random.randint(1,100, (1,10))\n",
    "maximum = np.max(numlist)\n",
    "minimum = np.min(numlist)\n",
    "print(numlist)\n",
    "print(f\"maximum is {maximum}, minimum is {minimum}\")"
   ]
  },
  {
   "cell_type": "markdown",
   "id": "526a0a58-faa2-45a1-aa64-04846084d84c",
   "metadata": {},
   "source": [
    "2.\tCount occurrences:\n",
    "Create a list of integer numbers, write code to find how many times a given number (can be coder choice or user input) appears in the list.\n",
    "\n",
    "- e.g. my_list = [4,4,5,0,1,5,0,4,5,4,3,3,0]\n",
    "- 0 appears 3 times\n",
    "- 2 appears 0 times\n"
   ]
  },
  {
   "cell_type": "code",
   "execution_count": 18,
   "id": "ff71d1ac-c512-4619-aec8-b34c87c91bac",
   "metadata": {},
   "outputs": [
    {
     "name": "stdout",
     "output_type": "stream",
     "text": [
      "[[4 2 7 5 7 2 1 3 9 5 6 6 5 2 7 6 6 8 9 1]]\n"
     ]
    },
    {
     "name": "stdin",
     "output_type": "stream",
     "text": [
      "please enter a positive integer 6\n"
     ]
    },
    {
     "name": "stdout",
     "output_type": "stream",
     "text": [
      "4\n"
     ]
    }
   ],
   "source": [
    "numlist=np.random.randint(1,10, (1,20))\n",
    "print(numlist)\n",
    "x=int(input(\"please enter a positive integer\"))\n",
    "print(np.sum(numlist==x))"
   ]
  },
  {
   "cell_type": "markdown",
   "id": "5486da14-b84f-4319-bae5-7228f44a32b9",
   "metadata": {},
   "source": [
    "3.\tBasic statistics\n",
    "\n",
    "- Given a list of numbers, write code to compute their average (\"mu\") and standard deviation (\"std\"), without using built in functions. Check if a new value x (either coder choice or user input) is inside the confidence interval given by:\n",
    "- mu - std < x < mu + std  [not the right syntax!]\n",
    "- you can use: x = float(input('Test point?: '))\n"
   ]
  },
  {
   "cell_type": "code",
   "execution_count": 27,
   "id": "d5ac2dd2-a828-4a21-9ee2-3c60e94890df",
   "metadata": {},
   "outputs": [
    {
     "name": "stdout",
     "output_type": "stream",
     "text": [
      "mean is 4.05049421092937 and standard deviation is 5.00997785763374\n"
     ]
    },
    {
     "name": "stdin",
     "output_type": "stream",
     "text": [
      "please enter any number or press q to quit 1\n"
     ]
    },
    {
     "name": "stdout",
     "output_type": "stream",
     "text": [
      "inside\n"
     ]
    },
    {
     "name": "stdin",
     "output_type": "stream",
     "text": [
      "please enter any number or press q to quit -10\n"
     ]
    },
    {
     "name": "stdout",
     "output_type": "stream",
     "text": [
      "outside\n"
     ]
    },
    {
     "name": "stdin",
     "output_type": "stream",
     "text": [
      "please enter any number or press q to quit q\n"
     ]
    }
   ],
   "source": [
    "numlist=np.random.randn(1,10000)*5+4\n",
    "#print(numlist)\n",
    "mean=np.mean(numlist)\n",
    "std=np.std(numlist)\n",
    "print(f\"mean is {mean} and standard deviation is {std}\")\n",
    "while 1==1:\n",
    "    x=(input(\"please enter any number or press q to quit\"))\n",
    "    if x==\"q\":\n",
    "        break\n",
    "        \n",
    "    else:\n",
    "        x=int(x)\n",
    "        if x<mean+std and x>mean-std:\n",
    "            print(\"inside\")\n",
    "        else:\n",
    "            print(\"outside\")\n",
    "    "
   ]
  },
  {
   "cell_type": "markdown",
   "id": "14ac7625-2ffe-4dd3-9f74-d04d46281ae4",
   "metadata": {},
   "source": [
    "4.\tGuessing Game\n",
    "\n",
    "- Write a Python program for playing a number guessing game. The program will select a random number and ask the user to find it. The user will be asked for a number and the program will give feedback saying if the number is < or > than the target. The program will then prompt for another number, and the user has to keep guessing. The program will stop when the user has found the right number.\n"
   ]
  },
  {
   "cell_type": "code",
   "execution_count": 29,
   "id": "1c06a791-4c24-4888-a181-deb876ba227c",
   "metadata": {},
   "outputs": [
    {
     "name": "stdin",
     "output_type": "stream",
     "text": [
      "please enter any integer or press q to quit 3\n"
     ]
    },
    {
     "name": "stdout",
     "output_type": "stream",
     "text": [
      "increase\n"
     ]
    },
    {
     "name": "stdin",
     "output_type": "stream",
     "text": [
      "please enter any integer or press q to quit 20\n"
     ]
    },
    {
     "name": "stdout",
     "output_type": "stream",
     "text": [
      "decrease\n"
     ]
    },
    {
     "name": "stdin",
     "output_type": "stream",
     "text": [
      "please enter any integer or press q to quit 11\n"
     ]
    },
    {
     "name": "stdout",
     "output_type": "stream",
     "text": [
      "decrease\n"
     ]
    },
    {
     "name": "stdin",
     "output_type": "stream",
     "text": [
      "please enter any integer or press q to quit 7\n"
     ]
    },
    {
     "name": "stdout",
     "output_type": "stream",
     "text": [
      "increase\n"
     ]
    },
    {
     "name": "stdin",
     "output_type": "stream",
     "text": [
      "please enter any integer or press q to quit 9\n"
     ]
    },
    {
     "name": "stdout",
     "output_type": "stream",
     "text": [
      "increase\n"
     ]
    },
    {
     "name": "stdin",
     "output_type": "stream",
     "text": [
      "please enter any integer or press q to quit 10\n"
     ]
    },
    {
     "name": "stdout",
     "output_type": "stream",
     "text": [
      "correct\n"
     ]
    }
   ],
   "source": [
    "number=10\n",
    "while 1==1:\n",
    "    x=(input(\"please enter any integer or press q to quit\"))\n",
    "    if x==\"q\":\n",
    "        break\n",
    "    else:\n",
    "        x=int(x)\n",
    "        if x<number:\n",
    "            print(\"increase\")\n",
    "        elif x==number:\n",
    "            print(\"correct\")\n",
    "            break\n",
    "        else:\n",
    "            print(\"decrease\")"
   ]
  },
  {
   "cell_type": "code",
   "execution_count": 46,
   "id": "f43cfb85-ab00-4774-b447-52c04ed7cd66",
   "metadata": {},
   "outputs": [
    {
     "name": "stdout",
     "output_type": "stream",
     "text": [
      "{1: 1, 2: 4, 3: 9, 4: 16, 5: 25, 6: 36, 7: 49, 8: 64, 9: 81, 10: 100, 11: 121, 12: 144, 13: 169, 14: 196, 15: 225} {3: 9, 6: 36, 9: 81, 12: 144, 15: 225}\n",
      "{1: 1, 2: 4, 3: 9, 4: 16, 5: 25, 6: 36, 7: 49, 8: 64, 9: 81, 10: 100, 11: 121, 12: 144, 13: 169, 14: 196, 15: 225}\n",
      "{1: 1, 2: 4, 3: 9, 4: 16, 5: 25, 6: 36, 7: 49, 8: 64, 9: 81, 10: 100, 11: 121, 12: 144, 13: 169, 14: 196, 15: 225}\n"
     ]
    }
   ],
   "source": [
    "d1={}\n",
    "d2={}\n",
    "for i in range(1,16):\n",
    "    d1[i]=i**2\n",
    "    if i**2%3==0:\n",
    "        d2[i]=i**2\n",
    "print(d1,d2)\n",
    "sorted_by_values = dict(sorted(d1.items(), key=lambda item: item[1]))\n",
    "sorted_by_keys = dict(sorted(d1.items(), key=lambda item: item[0]))\n",
    "print(sorted_by_values)\n",
    "print(sorted_by_keys)"
   ]
  },
  {
   "cell_type": "code",
   "execution_count": 49,
   "id": "b58ee50d-c00f-4c91-bf88-8627915fecc8",
   "metadata": {},
   "outputs": [
    {
     "name": "stdout",
     "output_type": "stream",
     "text": [
      "[[2 8 1]\n",
      " [6 3 8]\n",
      " [8 8 5]] [[2 1 3]\n",
      " [2 9 6]\n",
      " [4 7 6]] [[ 4  9  4]\n",
      " [ 8 12 14]\n",
      " [12 15 11]] [[ 24  81  60]\n",
      " [ 50  89  84]\n",
      " [ 52 115 102]]\n"
     ]
    }
   ],
   "source": [
    "m1=np.random.randint(1,10,(3,3))\n",
    "m2=np.random.randint(1,10,(3,3))\n",
    "print(m1,m2,m1+m2, np.matmul(m1,m2))"
   ]
  },
  {
   "cell_type": "code",
   "execution_count": 50,
   "id": "dbed7eab-13f7-43f7-aae3-772241cde3f8",
   "metadata": {},
   "outputs": [
    {
     "data": {
      "text/plain": [
       "[<matplotlib.lines.Line2D at 0x1a46f6b7230>]"
      ]
     },
     "execution_count": 50,
     "metadata": {},
     "output_type": "execute_result"
    },
    {
     "data": {
      "image/png": "[encoded data removed]",
      "text/plain": [
       "<Figure size 640x480 with 1 Axes>"
      ]
     },
     "metadata": {},
     "output_type": "display_data"
    }
   ],
   "source": [
    "t=np.linspace(-np.pi,+np.pi,100)\n",
    "plt.plot(t,np.sin(t))"
   ]
  },
  {
   "cell_type": "code",
   "execution_count": 53,
   "id": "b3c1e890-a16f-4459-8009-ab296fde6a97",
   "metadata": {},
   "outputs": [
    {
     "data": {
      "text/plain": [
       "[<matplotlib.lines.Line2D at 0x1a46fb6a450>]"
      ]
     },
     "execution_count": 53,
     "metadata": {},
     "output_type": "execute_result"
    },
    {
     "data": {
      "image/png": "[encoded data removed]",
      "text/plain": [
       "<Figure size 640x480 with 1 Axes>"
      ]
     },
     "metadata": {},
     "output_type": "display_data"
    }
   ],
   "source": [
    "t=np.arange(0.1,100,0.1)\n",
    "plt.plot(t,np.log(np.sqrt(t)))"
   ]
  },
  {
   "cell_type": "code",
   "execution_count": null,
   "id": "faf713f4-04bd-40af-9443-80747cbd2487",
   "metadata": {},
   "outputs": [],
   "source": []
  }
 ],
 "metadata": {
  "kernelspec": {
   "display_name": "Python 3 (ipykernel)",
   "language": "python",
   "name": "python3"
  },
  "language_info": {
   "codemirror_mode": {
    "name": "ipython",
    "version": 3
   },
   "file_extension": ".py",
   "mimetype": "text/x-python",
   "name": "python",
   "nbconvert_exporter": "python",
   "pygments_lexer": "ipython3",
   "version": "3.12.8"
  }
 },
 "nbformat": 4,
 "nbformat_minor": 5
}
